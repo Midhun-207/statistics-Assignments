{
 "cells": [
  {
   "cell_type": "markdown",
   "id": "2ede4dfc",
   "metadata": {},
   "source": [
    "You are a data analyst at a school district, and you have been given a dataset containing the test scores of students from a particular school. Your task is to perform an analysis of the data to gain insights into student performance. \n"
   ]
  },
  {
   "cell_type": "code",
   "execution_count": 6,
   "id": "767807e3",
   "metadata": {},
   "outputs": [
    {
     "data": {
      "text/html": [
       "<div>\n",
       "<style scoped>\n",
       "    .dataframe tbody tr th:only-of-type {\n",
       "        vertical-align: middle;\n",
       "    }\n",
       "\n",
       "    .dataframe tbody tr th {\n",
       "        vertical-align: top;\n",
       "    }\n",
       "\n",
       "    .dataframe thead th {\n",
       "        text-align: right;\n",
       "    }\n",
       "</style>\n",
       "<table border=\"1\" class=\"dataframe\">\n",
       "  <thead>\n",
       "    <tr style=\"text-align: right;\">\n",
       "      <th></th>\n",
       "      <th>gender</th>\n",
       "      <th>math_score</th>\n",
       "      <th>reading_score</th>\n",
       "      <th>writing_score</th>\n",
       "    </tr>\n",
       "  </thead>\n",
       "  <tbody>\n",
       "    <tr>\n",
       "      <th>0</th>\n",
       "      <td>female</td>\n",
       "      <td>57</td>\n",
       "      <td>59</td>\n",
       "      <td>59</td>\n",
       "    </tr>\n",
       "    <tr>\n",
       "      <th>1</th>\n",
       "      <td>female</td>\n",
       "      <td>57</td>\n",
       "      <td>67</td>\n",
       "      <td>72</td>\n",
       "    </tr>\n",
       "    <tr>\n",
       "      <th>2</th>\n",
       "      <td>female</td>\n",
       "      <td>52</td>\n",
       "      <td>69</td>\n",
       "      <td>64</td>\n",
       "    </tr>\n",
       "    <tr>\n",
       "      <th>3</th>\n",
       "      <td>female</td>\n",
       "      <td>66</td>\n",
       "      <td>73</td>\n",
       "      <td>77</td>\n",
       "    </tr>\n",
       "    <tr>\n",
       "      <th>4</th>\n",
       "      <td>male</td>\n",
       "      <td>81</td>\n",
       "      <td>73</td>\n",
       "      <td>65</td>\n",
       "    </tr>\n",
       "    <tr>\n",
       "      <th>...</th>\n",
       "      <td>...</td>\n",
       "      <td>...</td>\n",
       "      <td>...</td>\n",
       "      <td>...</td>\n",
       "    </tr>\n",
       "    <tr>\n",
       "      <th>95</th>\n",
       "      <td>female</td>\n",
       "      <td>82</td>\n",
       "      <td>86</td>\n",
       "      <td>89</td>\n",
       "    </tr>\n",
       "    <tr>\n",
       "      <th>96</th>\n",
       "      <td>female</td>\n",
       "      <td>42</td>\n",
       "      <td>46</td>\n",
       "      <td>47</td>\n",
       "    </tr>\n",
       "    <tr>\n",
       "      <th>97</th>\n",
       "      <td>male</td>\n",
       "      <td>63</td>\n",
       "      <td>59</td>\n",
       "      <td>55</td>\n",
       "    </tr>\n",
       "    <tr>\n",
       "      <th>98</th>\n",
       "      <td>female</td>\n",
       "      <td>47</td>\n",
       "      <td>62</td>\n",
       "      <td>56</td>\n",
       "    </tr>\n",
       "    <tr>\n",
       "      <th>99</th>\n",
       "      <td>male</td>\n",
       "      <td>71</td>\n",
       "      <td>58</td>\n",
       "      <td>62</td>\n",
       "    </tr>\n",
       "  </tbody>\n",
       "</table>\n",
       "<p>100 rows × 4 columns</p>\n",
       "</div>"
      ],
      "text/plain": [
       "    gender  math_score  reading_score  writing_score\n",
       "0   female          57             59             59\n",
       "1   female          57             67             72\n",
       "2   female          52             69             64\n",
       "3   female          66             73             77\n",
       "4     male          81             73             65\n",
       "..     ...         ...            ...            ...\n",
       "95  female          82             86             89\n",
       "96  female          42             46             47\n",
       "97    male          63             59             55\n",
       "98  female          47             62             56\n",
       "99    male          71             58             62\n",
       "\n",
       "[100 rows x 4 columns]"
      ]
     },
     "execution_count": 6,
     "metadata": {},
     "output_type": "execute_result"
    }
   ],
   "source": [
    "import numpy as np\n",
    "import pandas as pd\n",
    "exam=pd.read_csv('D:\\data spark\\ml\\statistics\\exams.csv')\n",
    "exam"
   ]
  },
  {
   "cell_type": "code",
   "execution_count": 9,
   "id": "ad318cdb",
   "metadata": {},
   "outputs": [
    {
     "name": "stdout",
     "output_type": "stream",
     "text": [
      "\n",
      "Average math score = 68.23\n",
      "\n",
      "Average reading score = 69.7\n",
      "\n",
      "Average writing score = 68.68\n"
     ]
    }
   ],
   "source": [
    "avg_math_score=np.average(exam.math_score)\n",
    "print(\"\\nAverage math score =\",avg_math_score)\n",
    "avg_reading_score=np.average(exam.reading_score)\n",
    "print(\"\\nAverage reading score =\",avg_reading_score)\n",
    "avg_writing_score=np.average(exam.writing_score)\n",
    "print(\"\\nAverage writing score =\",avg_writing_score)"
   ]
  },
  {
   "cell_type": "code",
   "execution_count": 10,
   "id": "b99cf415",
   "metadata": {},
   "outputs": [
    {
     "name": "stdout",
     "output_type": "stream",
     "text": [
      "\n",
      "Standard deviation for math is 15.034530255382107\n",
      "\n",
      "Standard deviation for reading is 13.453995689013729\n",
      "\n",
      "Standard deviation for writing is 13.797738945204031\n"
     ]
    }
   ],
   "source": [
    "std_math=np.std(exam.math_score)\n",
    "std_reading=np.std(exam.reading_score)\n",
    "std_writing=np.std(exam.writing_score)\n",
    "print(\"\\nStandard deviation for math is\",std_math)\n",
    "print(\"\\nStandard deviation for reading is\",std_reading)\n",
    "print(\"\\nStandard deviation for writing is\",std_writing)"
   ]
  },
  {
   "cell_type": "code",
   "execution_count": 27,
   "id": "ae319bad",
   "metadata": {},
   "outputs": [],
   "source": [
    "def percent_(data):\n",
    "    x=0\n",
    "    for i in data:\n",
    "        if i>=50:\n",
    "            x=x+1\n",
    "    percentage=(x/100)*100  \n",
    "    return percentage\n",
    "            "
   ]
  },
  {
   "cell_type": "code",
   "execution_count": 28,
   "id": "db74f1f4",
   "metadata": {},
   "outputs": [
    {
     "data": {
      "text/plain": [
       "87.0"
      ]
     },
     "execution_count": 28,
     "metadata": {},
     "output_type": "execute_result"
    }
   ],
   "source": [
    "percent_(exam.math_score)"
   ]
  },
  {
   "cell_type": "code",
   "execution_count": 29,
   "id": "2c7f298f",
   "metadata": {},
   "outputs": [
    {
     "data": {
      "text/plain": [
       "92.0"
      ]
     },
     "execution_count": 29,
     "metadata": {},
     "output_type": "execute_result"
    }
   ],
   "source": [
    "percent_(exam.reading_score)"
   ]
  },
  {
   "cell_type": "code",
   "execution_count": 30,
   "id": "1f807a52",
   "metadata": {},
   "outputs": [
    {
     "data": {
      "text/plain": [
       "94.0"
      ]
     },
     "execution_count": 30,
     "metadata": {},
     "output_type": "execute_result"
    }
   ],
   "source": [
    "percent_(exam.writing_score)"
   ]
  },
  {
   "cell_type": "code",
   "execution_count": 32,
   "id": "f9dff308",
   "metadata": {},
   "outputs": [
    {
     "name": "stdout",
     "output_type": "stream",
     "text": [
      "\n",
      "Male Scores: 4     81\n",
      "5     43\n",
      "8     70\n",
      "10    83\n",
      "11    80\n",
      "12    62\n",
      "13    81\n",
      "18    89\n",
      "20    73\n",
      "21    80\n",
      "23    94\n",
      "24    69\n",
      "25    91\n",
      "27    67\n",
      "28    61\n",
      "30    70\n",
      "33    44\n",
      "34    82\n",
      "35    56\n",
      "37    36\n",
      "40    41\n",
      "43    95\n",
      "45    75\n",
      "48    61\n",
      "50    70\n",
      "51    67\n",
      "52    62\n",
      "53    71\n",
      "54    77\n",
      "55    63\n",
      "56    55\n",
      "57    98\n",
      "58    80\n",
      "59    78\n",
      "60    64\n",
      "63    71\n",
      "64    84\n",
      "65    88\n",
      "66    83\n",
      "67    91\n",
      "71    60\n",
      "72    65\n",
      "73    84\n",
      "75    98\n",
      "76    69\n",
      "77    84\n",
      "79    71\n",
      "80    61\n",
      "81    81\n",
      "82    72\n",
      "87    29\n",
      "93    84\n",
      "94    83\n",
      "97    63\n",
      "99    71\n",
      "Name: math_score, dtype: int64\n",
      "\n",
      "Female Scores: 0     57\n",
      "1     57\n",
      "2     52\n",
      "3     66\n",
      "6     69\n",
      "7     75\n",
      "9     75\n",
      "14    64\n",
      "15    45\n",
      "16    46\n",
      "17    75\n",
      "19    61\n",
      "22    72\n",
      "26    90\n",
      "29    58\n",
      "31    68\n",
      "32    77\n",
      "36    53\n",
      "38    55\n",
      "39    34\n",
      "41    80\n",
      "42    81\n",
      "44    44\n",
      "46    84\n",
      "47    69\n",
      "49    59\n",
      "61    86\n",
      "62    63\n",
      "68    56\n",
      "69    50\n",
      "70    50\n",
      "74    74\n",
      "78    75\n",
      "83    57\n",
      "84    69\n",
      "85    58\n",
      "86    80\n",
      "88    80\n",
      "89    49\n",
      "90    54\n",
      "91    75\n",
      "92    49\n",
      "95    82\n",
      "96    42\n",
      "98    47\n",
      "Name: math_score, dtype: int64\n"
     ]
    }
   ],
   "source": [
    "male_math_scores=exam[exam['gender'] == 'male']['math_score']\n",
    "female_math_scores = exam[exam['gender'] == 'female']['math_score']\n",
    "print(\"\\nMale Scores:\", male_math_scores)\n",
    "print(\"\\nFemale Scores:\", female_math_scores)"
   ]
  },
  {
   "cell_type": "code",
   "execution_count": 33,
   "id": "2a40a163",
   "metadata": {},
   "outputs": [
    {
     "name": "stdout",
     "output_type": "stream",
     "text": [
      "\n",
      "Male average math score is  72.01818181818182\n",
      "\n",
      "Female average math score is  63.6\n"
     ]
    }
   ],
   "source": [
    "avg_male_score=np.average(male_math_scores)\n",
    "print(\"\\nMale average math score is \",avg_male_score)\n",
    "avg_female_score=np.average(female_math_scores)\n",
    "print(\"\\nFemale average math score is \",avg_female_score)"
   ]
  },
  {
   "cell_type": "markdown",
   "id": "d3cf95c4",
   "metadata": {},
   "source": [
    "H0: There is no significant difference in the average math scores between male and female students. \n",
    "H1: There is a significant difference in the average math scores between male and female students. \n",
    " It is a two taled problem\n",
    " here we use t-test"
   ]
  },
  {
   "cell_type": "code",
   "execution_count": 34,
   "id": "e611013f",
   "metadata": {},
   "outputs": [
    {
     "name": "stdout",
     "output_type": "stream",
     "text": [
      "\n",
      "p-value 0.005010885573497083\n",
      "We will reject the null hypothesis\n"
     ]
    }
   ],
   "source": [
    "from scipy.stats import ttest_ind\n",
    "ttest,pval = ttest_ind(male_math_scores,female_math_scores,)\n",
    "print(\"\\np-value\",pval)\n",
    "if pval <0.025:# assuming significance level is 5%\n",
    "  print(\"We will reject the null hypothesis\")\n",
    "else:\n",
    "  print(\"We have failed to reject the null hypothesis\")"
   ]
  },
  {
   "cell_type": "markdown",
   "id": "0554cc3f",
   "metadata": {},
   "source": [
    "Here we reject the null hypothesis therefore we conclude that there is a significant difference in the average math scores between male and female students. "
   ]
  }
 ],
 "metadata": {
  "kernelspec": {
   "display_name": "Python 3 (ipykernel)",
   "language": "python",
   "name": "python3"
  },
  "language_info": {
   "codemirror_mode": {
    "name": "ipython",
    "version": 3
   },
   "file_extension": ".py",
   "mimetype": "text/x-python",
   "name": "python",
   "nbconvert_exporter": "python",
   "pygments_lexer": "ipython3",
   "version": "3.10.9"
  }
 },
 "nbformat": 4,
 "nbformat_minor": 5
}
