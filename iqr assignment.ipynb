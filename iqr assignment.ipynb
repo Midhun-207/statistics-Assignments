{
 "cells": [
  {
   "cell_type": "code",
   "execution_count": 8,
   "id": "0855b6b7",
   "metadata": {},
   "outputs": [],
   "source": [
    "import numpy as np\n",
    "d=[]\n",
    "c=0\n",
    "for i in range(1,101):\n",
    "    d.append(i)"
   ]
  },
  {
   "cell_type": "code",
   "execution_count": 2,
   "id": "0f690e06",
   "metadata": {},
   "outputs": [],
   "source": [
    "def out_det(data):\n",
    "    q1=np.quantile(data,.25)\n",
    "    q3=np.quantile(data,.75)\n",
    "    IQR=q3-q1\n",
    "    ll=q1-IQR*1.5\n",
    "    ul=q3+IQR*1.5\n",
    "    outlier=[]\n",
    "    for i in data:\n",
    "        if (i<ll)or(i>ul):\n",
    "            outlier.append(i)  \n",
    "    return outlier"
   ]
  },
  {
   "cell_type": "code",
   "execution_count": 3,
   "id": "ef43dafb",
   "metadata": {},
   "outputs": [
    {
     "data": {
      "text/plain": [
       "[]"
      ]
     },
     "execution_count": 3,
     "metadata": {},
     "output_type": "execute_result"
    }
   ],
   "source": [
    "out_det(d)"
   ]
  },
  {
   "cell_type": "code",
   "execution_count": 9,
   "id": "9a9c40fc",
   "metadata": {},
   "outputs": [],
   "source": [
    "d1=-100,-50,-10\n",
    "d.extend(d1)"
   ]
  },
  {
   "cell_type": "code",
   "execution_count": 11,
   "id": "1decea10",
   "metadata": {},
   "outputs": [
    {
     "data": {
      "text/plain": [
       "[-100]"
      ]
     },
     "execution_count": 11,
     "metadata": {},
     "output_type": "execute_result"
    }
   ],
   "source": [
    "out_det(d)"
   ]
  },
  {
   "cell_type": "code",
   "execution_count": null,
   "id": "4e23f7ee",
   "metadata": {},
   "outputs": [],
   "source": []
  }
 ],
 "metadata": {
  "kernelspec": {
   "display_name": "Python 3 (ipykernel)",
   "language": "python",
   "name": "python3"
  },
  "language_info": {
   "codemirror_mode": {
    "name": "ipython",
    "version": 3
   },
   "file_extension": ".py",
   "mimetype": "text/x-python",
   "name": "python",
   "nbconvert_exporter": "python",
   "pygments_lexer": "ipython3",
   "version": "3.10.9"
  }
 },
 "nbformat": 4,
 "nbformat_minor": 5
}
