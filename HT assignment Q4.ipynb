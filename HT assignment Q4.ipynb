{
 "cells": [
  {
   "cell_type": "raw",
   "id": "04e0ae26",
   "metadata": {},
   "source": [
    "4. You are the manager of a retail store chain, and you want to determine if there is a significant difference in customer satisfaction between two different store locations, Store A and Store B. To do this, you will perform a Z-test."
   ]
  },
  {
   "cell_type": "code",
   "execution_count": 6,
   "id": "ba1656ab",
   "metadata": {},
   "outputs": [
    {
     "name": "stdout",
     "output_type": "stream",
     "text": [
      "\n",
      "Customer satisfaction of store 1 = [ 4  1  5 10  6  7  1 10 10  9  9  7  5 10  5]\n",
      "\n",
      "Customer satisfaction of store 2 = [ 8  5  9  5  9  7  9 10  8  6 10  5  6  6  5]\n",
      "\n",
      "Mean of store1 = 6.6\n",
      "\n",
      "Standard deviation of store1 = 3.006659275674582\n",
      "\n",
      "Mean of store2 = 7.2\n",
      "\n",
      "Standard deviation of store2 = 1.833030277982336\n"
     ]
    },
    {
     "name": "stderr",
     "output_type": "stream",
     "text": [
      "C:\\Users\\user\\AppData\\Local\\Temp\\ipykernel_18900\\969488980.py:3: DeprecationWarning: This function is deprecated. Please call randint(1, 10 + 1) instead\n",
      "  Store_1=np.random.random_integers(low=1,high=10,size=15) # customer satisfaction of store 1\n",
      "C:\\Users\\user\\AppData\\Local\\Temp\\ipykernel_18900\\969488980.py:4: DeprecationWarning: This function is deprecated. Please call randint(5, 10 + 1) instead\n",
      "  Store_2=np.random.random_integers(low=5,high=10,size=15) # customer satisfaction of store 2\n"
     ]
    }
   ],
   "source": [
    "import numpy as np\n",
    "\n",
    "Store_1=np.random.random_integers(low=1,high=10,size=15) # customer satisfaction of store 1\n",
    "Store_2=np.random.random_integers(low=5,high=10,size=15) # customer satisfaction of store 2\n",
    "print(\"\\nCustomer satisfaction of store 1 =\",Store_1)\n",
    "print(\"\\nCustomer satisfaction of store 2 =\",Store_2)\n",
    "mean_store_1=np.mean(Store_1)\n",
    "std_store_1=np.std(Store_1)\n",
    "print(\"\\nMean of store1 =\",mean_store_1)\n",
    "print(\"\\nStandard deviation of store1 =\",std_store_1)\n",
    "mean_store_2=np.mean(Store_2)\n",
    "std_store_2=np.std(Store_2)\n",
    "print(\"\\nMean of store2 =\",mean_store_2)\n",
    "print(\"\\nStandard deviation of store2 =\",std_store_2)\n"
   ]
  },
  {
   "cell_type": "markdown",
   "id": "a127f81b",
   "metadata": {},
   "source": [
    "H0: There is no significant difference in customer satisfaction between Store 1 and Store 2.\n",
    "H1: There is a significant difference in customer satisfaction between Store 1 and Store 2.\n",
    "\n",
    " It is a two tailed problem."
   ]
  },
  {
   "cell_type": "code",
   "execution_count": 9,
   "id": "6c835ac7",
   "metadata": {},
   "outputs": [
    {
     "name": "stdout",
     "output_type": "stream",
     "text": [
      "\n",
      "p-value = 0.5237760432803327\n",
      "\n",
      "Z-statistic = -0.6375355777548626\n",
      "failed to reject the null hypothesis\n"
     ]
    }
   ],
   "source": [
    "from scipy import stats\n",
    "from statsmodels.stats import weightstats as stests\n",
    "ztest ,pval = stests.ztest(Store_1, Store_2,)\n",
    "print(\"\\np-value =\",pval)\n",
    "print(\"\\nZ-statistic =\",ztest)\n",
    "if pval<0.025:\n",
    "    print(\"reject null hypothesis\")\n",
    "else:\n",
    "    print(\"failed to reject the null hypothesis\")"
   ]
  },
  {
   "cell_type": "markdown",
   "id": "21f2c481",
   "metadata": {},
   "source": [
    "Here we failed to reject the null hypothesis, so we conclude that there is a significant difference in customer satisfaction between Store 1 and Store 2. Customer satisfaction in store 2 is greater than store 1."
   ]
  }
 ],
 "metadata": {
  "kernelspec": {
   "display_name": "Python 3 (ipykernel)",
   "language": "python",
   "name": "python3"
  },
  "language_info": {
   "codemirror_mode": {
    "name": "ipython",
    "version": 3
   },
   "file_extension": ".py",
   "mimetype": "text/x-python",
   "name": "python",
   "nbconvert_exporter": "python",
   "pygments_lexer": "ipython3",
   "version": "3.10.9"
  }
 },
 "nbformat": 4,
 "nbformat_minor": 5
}
