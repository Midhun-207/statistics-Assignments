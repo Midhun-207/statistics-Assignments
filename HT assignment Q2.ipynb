{
 "cells": [
  {
   "cell_type": "markdown",
   "id": "13fbe347",
   "metadata": {},
   "source": [
    "You work for a retail company that operates in two different regions, Region A and Region B. The company recently introduced a new product, and you want to determine if there is a significant difference in the average sales of this product between the two regions. To do this, you will perform t-test."
   ]
  },
  {
   "cell_type": "markdown",
   "id": "a4f27599",
   "metadata": {},
   "source": [
    "H0: There is no significant difference in the average sales of the new product between Region A and Region B.\n",
    "H1: There is a significant difference in the average sales of the new product between Region A and Region B.\n",
    " Ii is two tailed"
   ]
  },
  {
   "cell_type": "code",
   "execution_count": 6,
   "id": "85d12ab1",
   "metadata": {},
   "outputs": [],
   "source": [
    "from scipy.stats import ttest_ind\n",
    "import numpy as np\n",
    "Region_A= [550, 600, 580, 620, 590, 570, 610, 540, 560, 630]\n",
    "Region_B= [520, 540, 530, 535, 525, 545, 510, 550, 535, 530]\n"
   ]
  },
  {
   "cell_type": "code",
   "execution_count": 3,
   "id": "7623d0f3",
   "metadata": {},
   "outputs": [
    {
     "name": "stdout",
     "output_type": "stream",
     "text": [
      "\n",
      "Mean of Region A = 585.0\n",
      "\n",
      "Mean of Region B = 532.0\n",
      "\n",
      "Standard deviation of Region A = 28.722813232690143\n",
      "\n",
      "Standard deviation of Region A = 11.224972160321824\n"
     ]
    }
   ],
   "source": [
    "mean_Region_A=np.mean(Region_A)\n",
    "mean_Region_B=np.mean(Region_B)\n",
    "std_Region_A=np.std(Region_A)\n",
    "std_Region_B=np.std(Region_B)\n",
    "print(\"\\nMean of Region A =\",mean_Region_A)\n",
    "print(\"\\nMean of Region B =\",mean_Region_B)\n",
    "print(\"\\nStandard deviation of Region A =\",std_Region_A)\n",
    "print(\"\\nStandard deviation of Region A =\",std_Region_B)"
   ]
  },
  {
   "cell_type": "code",
   "execution_count": 10,
   "id": "37b7f187",
   "metadata": {},
   "outputs": [
    {
     "name": "stdout",
     "output_type": "stream",
     "text": [
      "\n",
      "ttest = 5.155928259247896\n",
      "\n",
      "p value = 6.632992275641221e-05\n",
      "We will reject the null hypothesis\n"
     ]
    }
   ],
   "source": [
    "\n",
    "ttest,pval=ttest_ind(Region_A,Region_B,)\n",
    "print(\"\\nttest =\",ttest )\n",
    "print(\"\\np value =\",pval)\n",
    "if pval<0.025:\n",
    "    print(\"We will reject the null hypothesis\")\n",
    "else:\n",
    "     print(\"We have failed to reject the null hypothesis\")"
   ]
  },
  {
   "cell_type": "markdown",
   "id": "8f387957",
   "metadata": {},
   "source": [
    "Hence we reject the null hypothesis, we conclude that there is a significant difference in the average sales of the new product between Region A and Region B."
   ]
  },
  {
   "cell_type": "code",
   "execution_count": null,
   "id": "21daf47c",
   "metadata": {},
   "outputs": [],
   "source": []
  }
 ],
 "metadata": {
  "kernelspec": {
   "display_name": "Python 3 (ipykernel)",
   "language": "python",
   "name": "python3"
  },
  "language_info": {
   "codemirror_mode": {
    "name": "ipython",
    "version": 3
   },
   "file_extension": ".py",
   "mimetype": "text/x-python",
   "name": "python",
   "nbconvert_exporter": "python",
   "pygments_lexer": "ipython3",
   "version": "3.10.9"
  }
 },
 "nbformat": 4,
 "nbformat_minor": 5
}
