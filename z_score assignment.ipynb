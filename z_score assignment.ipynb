{
 "cells": [
  {
   "cell_type": "code",
   "execution_count": 1,
   "id": "311c2667",
   "metadata": {},
   "outputs": [],
   "source": [
    "import numpy as np\n",
    "import seaborn as sns\n",
    "from scipy import stats\n",
    "titanic=sns.load_dataset(\"titanic\")\n",
    "outlier=[]\n",
    "def outlier_zscore(data):\n",
    "    for i in data:\n",
    "        z_score=(i - np.mean(data)) / np.std(data)\n",
    "        if (z_score>3)or (z_score<-3):\n",
    "            outlier.append(i)\n",
    "    return outlier "
   ]
  },
  {
   "cell_type": "code",
   "execution_count": 2,
   "id": "8034f2db",
   "metadata": {},
   "outputs": [
    {
     "data": {
      "text/plain": [
       "[80.0, 74.0]"
      ]
     },
     "execution_count": 2,
     "metadata": {},
     "output_type": "execute_result"
    }
   ],
   "source": [
    "outlier_zscore(titanic['age'])"
   ]
  },
  {
   "cell_type": "code",
   "execution_count": null,
   "id": "665e40dd",
   "metadata": {},
   "outputs": [],
   "source": []
  }
 ],
 "metadata": {
  "kernelspec": {
   "display_name": "Python 3 (ipykernel)",
   "language": "python",
   "name": "python3"
  },
  "language_info": {
   "codemirror_mode": {
    "name": "ipython",
    "version": 3
   },
   "file_extension": ".py",
   "mimetype": "text/x-python",
   "name": "python",
   "nbconvert_exporter": "python",
   "pygments_lexer": "ipython3",
   "version": "3.10.9"
  }
 },
 "nbformat": 4,
 "nbformat_minor": 5
}
