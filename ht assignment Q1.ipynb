{
 "cells": [
  {
   "cell_type": "raw",
   "id": "702650bc",
   "metadata": {},
   "source": [
    "# 1. We have the potato yield from 12 different farms. We know that the standard potato yield for the given variety is µ=20.\n",
    "\n",
    "      x = [21.5, 24.5, 18.5, 17.2, 14.5, 23.2, 22.1, 20.5, 19.4, 18.1, 24.1, 18.5]\n",
    "\n",
    "Test if the potato yield from these farms is significantly better than the standard yield. Perform t-test.\n"
   ]
  },
  {
   "cell_type": "code",
   "execution_count": 9,
   "id": "9a46df26",
   "metadata": {},
   "outputs": [
    {
     "name": "stdout",
     "output_type": "stream",
     "text": [
      "0.4223145946526807\n",
      "0.2006562773994862\n",
      "we are failing to reject the null hypothesis\n"
     ]
    }
   ],
   "source": [
    "# H0 : mean <= 20\n",
    "# H1: mean > 20\n",
    "from scipy.stats import ttest_1samp\n",
    "import numpy as np\n",
    "potato_yield= [21.5, 24.5, 18.5, 17.2, 14.5, 23.2, 22.1, 20.5, 19.4, 18.1, 24.1, 18.5]\n",
    "t, pval = ttest_1samp(a=potato_yield , popmean=20, alternative=\"greater\")\n",
    "print(pval)\n",
    "print(t)\n",
    "if pval < 0.05:    # alpha value is 0.05 or 5%\n",
    "   print(\" we are rejecting the null hypothesis\")\n",
    "else:\n",
    "  print(\"we are failing to reject the null hypothesis\")"
   ]
  },
  {
   "cell_type": "code",
   "execution_count": 4,
   "id": "bd401e6c",
   "metadata": {},
   "outputs": [],
   "source": [
    "# Since we are failed to reject null hypothesis, we can say that the potato yield from these farms is same as the standard yield."
   ]
  },
  {
   "cell_type": "code",
   "execution_count": null,
   "id": "4acf4108",
   "metadata": {},
   "outputs": [],
   "source": []
  }
 ],
 "metadata": {
  "kernelspec": {
   "display_name": "Python 3 (ipykernel)",
   "language": "python",
   "name": "python3"
  },
  "language_info": {
   "codemirror_mode": {
    "name": "ipython",
    "version": 3
   },
   "file_extension": ".py",
   "mimetype": "text/x-python",
   "name": "python",
   "nbconvert_exporter": "python",
   "pygments_lexer": "ipython3",
   "version": "3.10.9"
  }
 },
 "nbformat": 4,
 "nbformat_minor": 5
}
